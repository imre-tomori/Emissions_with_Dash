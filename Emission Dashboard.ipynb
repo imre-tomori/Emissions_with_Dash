{
 "cells": [
  {
   "cell_type": "code",
   "execution_count": 1,
   "metadata": {},
   "outputs": [],
   "source": [
    "from jupyter_dash import JupyterDash\n",
    "import dash\n",
    "from dash import dcc\n",
    "from dash import html\n",
    "import pandas as pd\n",
    "import plotly.graph_objects as go"
   ]
  },
  {
   "cell_type": "code",
   "execution_count": 2,
   "metadata": {},
   "outputs": [],
   "source": [
    "pd.options.display.max_columns = 99\n",
    "pd.options.display.max_rows = 999"
   ]
  },
  {
   "cell_type": "markdown",
   "metadata": {},
   "source": [
    "# Requirenments\n",
    "\n",
    "Description: Emission dashboard to explore individal country contributions, and identify the most polluting nations over time.\n",
    "\n",
    "- Graph 1: Shows all countries total emissions by population and GDP. Date is adjustable with a slider.  \n",
    "- Graph 2: Shows detailed emission values for the selected country from Graph 1 over time. There should be an option to select total or per capita values.  \n",
    "- Graph 3: Shows the top 10 most pollutant nations over time."
   ]
  },
  {
   "cell_type": "markdown",
   "metadata": {},
   "source": [
    "### Information about the combined dataset from the World Bank\n",
    "\n",
    "Contains data in the following categories:\n",
    "\n",
    "- Country stats:\n",
    "  - Population, total\n",
    "  - GDP per capita (constant 2015 US$)  \n",
    "    \n",
    "    \n",
    "- Emission data:\n",
    "  - CO2 emissions (kt)\n",
    "  - CO2 emissions (metric tons per capita)\n",
    "  - Methane emissions (kt of CO2 equivalent)\n",
    "  - Nitrous oxide emissions (thousand metric tons of CO2 equivalent)"
   ]
  },
  {
   "cell_type": "markdown",
   "metadata": {},
   "source": [
    "### Read and clean data"
   ]
  },
  {
   "cell_type": "code",
   "execution_count": 30,
   "metadata": {},
   "outputs": [],
   "source": [
    "# Read in data and drop not needed columns\n",
    "data_path = 'Data Sources/'\n",
    "df = pd.read_csv(data_path + 'World Development Indicators.csv')\n",
    "df = df.drop(columns=['Country Code', 'Series Code'])\n",
    "\n",
    "# Pivot values to long format and shorten year values\n",
    "df = df.melt(id_vars = ['Country Name', 'Series Name'], var_name = 'Year', value_name = 'Value').dropna()\n",
    "df['Year'] = df['Year'].str[0:4]\n",
    "df['Year'] = pd.to_numeric(df['Year'],errors='coerce')\n",
    "df['Value'] = pd.to_numeric(df['Value'],errors='coerce')\n",
    "\n",
    "# Simplify indicator notations\n",
    "indicator_translation = {\n",
    "    'Population, total' : 'Population',\n",
    "    'GDP per capita (constant 2015 US$)' : 'GDP (per capita)',\n",
    "    'CO2 emissions (kt)' : 'CO2',\n",
    "    'CO2 emissions (metric tons per capita)' : 'CO2 (per capita)',\n",
    "    'Methane emissions (kt of CO2 equivalent)' : 'CH4',\n",
    "    'Nitrous oxide emissions (thousand metric tons of CO2 equivalent)' : 'NOX'\n",
    "}\n",
    "df['Series Name'].replace(indicator_translation, inplace=True)"
   ]
  },
  {
   "cell_type": "markdown",
   "metadata": {},
   "source": [
    "### Calculate per capita values where it is missing"
   ]
  },
  {
   "cell_type": "code",
   "execution_count": 31,
   "metadata": {},
   "outputs": [],
   "source": [
    "# Get population data, and calculate emission per population, adjust to metric tons\n",
    "df_emissions_per_capita = (\n",
    "    df[df['Series Name'].isin(['CH4','NOX'])].merge(\n",
    "        df[df['Series Name'] == 'Population'], on = ['Country Name', 'Year'], how = 'inner', suffixes = ['','_y'])\n",
    "    )\n",
    "df_emissions_per_capita['Value New'] = df_emissions_per_capita['Value'].div(df_emissions_per_capita['Value_y'])*1000\n",
    "\n",
    "# Prepare new dataset so it can be concatenated to original set\n",
    "df_emissions_per_capita = df_emissions_per_capita[['Country Name', 'Series Name', 'Year', 'Value New']]\n",
    "df_emissions_per_capita.rename({'Value New' : 'Value'}, axis = 1, inplace=True)\n",
    "\n",
    "# Add per capita notations\n",
    "indicator_translation = {\n",
    "    'NOX' : 'NOX (per capita)',\n",
    "    'CH4' : 'CH4 (per capita)'\n",
    "}\n",
    "df_emissions_per_capita['Series Name'].replace(indicator_translation, inplace=True)\n",
    "\n",
    "# Add new per capita values next to the original sub-set of emissions\n",
    "emissions = ['CO2', 'CO2 (per capita)', 'NOX', 'CH4']\n",
    "df_emissions = pd.concat([df[df['Series Name'].isin(emissions)],df_emissions_per_capita])"
   ]
  },
  {
   "cell_type": "markdown",
   "metadata": {},
   "source": [
    "### Rank countries based on total emissions"
   ]
  },
  {
   "cell_type": "code",
   "execution_count": 32,
   "metadata": {},
   "outputs": [],
   "source": [
    "# Pivot table to enable total calculation\n",
    "df_emissions_ranked = (\n",
    "    df_emissions.pivot(index = ['Country Name', 'Year'], columns = ['Series Name'], values = 'Value')\n",
    ")\n",
    "df_emissions_ranked.reset_index(inplace=True)"
   ]
  },
  {
   "cell_type": "code",
   "execution_count": 33,
   "metadata": {},
   "outputs": [],
   "source": [
    "# Calculate totals\n",
    "df_emissions_ranked['Total Emission'] = df_emissions_ranked['CH4']+df_emissions_ranked['CO2']+df_emissions_ranked['NOX']\n",
    "df_emissions_ranked['Total Emission (per capita)'] = \\\n",
    "    df_emissions_ranked['CH4 (per capita)']+df_emissions_ranked['CO2 (per capita)']+df_emissions_ranked['NOX (per capita)']\n",
    "\n",
    "# Rank countries by Total Emission for every year\n",
    "df_emissions_ranked.loc[:, 'Emission Rank'] = df_emissions_ranked.groupby(['Year'])['Total Emission'].rank(ascending=False)\n",
    "df_emissions_ranked.loc[:, 'Emission Rank (per capita)'] = df_emissions_ranked.groupby(['Year'])['Total Emission (per capita)'].rank(ascending=False)\n",
    "\n",
    "# Pivot back to original format\n",
    "df_emissions_ranked = df_emissions_ranked.melt(id_vars = ['Country Name', 'Year'], var_name = 'Series Name', value_name = 'Value')"
   ]
  },
  {
   "cell_type": "code",
   "execution_count": 34,
   "metadata": {},
   "outputs": [],
   "source": [
    "# Create final dataframe used to visualize\n",
    "df_final = pd.concat([df[df['Series Name'].isin(['Population','GDP (per capita)'])],df_emissions_ranked]).dropna()"
   ]
  },
  {
   "cell_type": "markdown",
   "metadata": {},
   "source": [
    "### Set up dashboard layout"
   ]
  },
  {
   "cell_type": "code",
   "execution_count": 36,
   "metadata": {},
   "outputs": [],
   "source": [
    "external_stylesheets = ['https://codepen.io/chriddyp/pen/bWLwgP.css']\n",
    "\n",
    "app = JupyterDash(__name__, external_stylesheets=external_stylesheets)\n",
    "\n",
    "server = app.server\n",
    "\n",
    "emission_range = df_final[df_final['Series Name'] == 'Total Emission']['Year'].unique()[:-1]\n",
    "\n",
    "app.layout = html.Div([\n",
    "                html.H1('Emission Dashboard'),\n",
    "                html.Div([\n",
    "                    html.P('Total emission by: '),\n",
    "                    dcc.Dropdown(\n",
    "                            id='crossfilter-meta-type',\n",
    "                            options=[{'label': i, 'value': i} for i in ['Population', 'GDP (per capita)']],\n",
    "                            value='Population',\n",
    "                        )], style = {'display': 'inline-block', 'width': '25%'}),\n",
    "                html.Div([\n",
    "                    dcc.Graph(\n",
    "                        id='crossfilter-population-gdp',\n",
    "                        clickData={'points': [{'customdata': 'Hungary'}]}\n",
    "                    )], style={'width': '95%', 'display': 'inline-block', 'padding': '0 20'}),\n",
    "    \n",
    "                html.Div(dcc.Slider(\n",
    "                    id='crossfilter-year-slider',\n",
    "                    min=emission_range.min(),\n",
    "                    max=emission_range.max(),\n",
    "                    value=emission_range.max(),\n",
    "                    marks={str(year): str(year) for year in emission_range},\n",
    "                    step=None\n",
    "                ), style={'width': '95%', 'padding': '0px 20px 20px 20px'}),\n",
    "                    \n",
    "                html.Div([\n",
    "                    html.Div([\n",
    "                        dcc.RadioItems(\n",
    "                            id='crossfilter-emission-main-type',\n",
    "                            options=[{'label': i, 'value': i} for i in ['Total', 'Per capita']],\n",
    "                            value='Total',\n",
    "                            labelStyle={'display': 'inline-block'}\n",
    "                        ),\n",
    "                        dcc.Graph(id='display-emission-main')\n",
    "                    ], style={'width': '45%', 'float': 'left', 'display': 'inline-block'}),\n",
    "                    \n",
    "                    html.Div([\n",
    "                        html.Div([\n",
    "                            dcc.Graph(id='display-emission-rank'),\n",
    "                        ])\n",
    "                    ], style={'display': 'inline-block', 'float' : 'right', 'width': '45%'})\n",
    "                ]),\n",
    "                    \n",
    "            ]\n",
    "            )"
   ]
  },
  {
   "cell_type": "code",
   "execution_count": 37,
   "metadata": {},
   "outputs": [],
   "source": [
    "@app.callback(\n",
    "    dash.dependencies.Output('crossfilter-population-gdp', 'figure'),\n",
    "    [dash.dependencies.Input('crossfilter-meta-type', 'value'),\n",
    "     dash.dependencies.Input('crossfilter-year-slider', 'value')]\n",
    ")\n",
    "def update_population_gdp(meta_type, year_value):\n",
    "    \n",
    "    dff = df_final[df_final['Year'] == year_value]    \n",
    "    dff_x = dff[dff['Series Name'] == meta_type].sort_values(['Country Name'])\n",
    "    dff_y = dff[dff['Series Name'] == 'Total Emission'].sort_values(['Country Name'])\n",
    "    \n",
    "    fig = go.Figure()\n",
    "    \n",
    "    fig.add_trace(go.Scatter(\n",
    "        y=dff_y['Value'],\n",
    "        x=dff_x['Value'],\n",
    "        text=dff_x['Country Name'],\n",
    "        customdata=dff_x['Country Name'],\n",
    "        mode='markers',\n",
    "        marker={\n",
    "            'size': 20,\n",
    "            'opacity': 0.7,\n",
    "            'color': 'purple',\n",
    "            'line': {'width': 2, 'color': 'blue'}\n",
    "        }\n",
    "        ))\n",
    "    \n",
    "    fig.update_layout(\n",
    "        title='Total Emission by Country',\n",
    "        xaxis={\n",
    "            'title': meta_type\n",
    "        },\n",
    "        yaxis={\n",
    "            'title': 'Total Emission'\n",
    "        },\n",
    "        margin={'l': 40, 'b': 30, 't': 30, 'r': 0},\n",
    "        height=450,\n",
    "        hovermode='closest'\n",
    "    )\n",
    "        \n",
    "    return fig"
   ]
  },
  {
   "cell_type": "code",
   "execution_count": 38,
   "metadata": {},
   "outputs": [],
   "source": [
    "@app.callback(\n",
    "    dash.dependencies.Output('display-emission-main', 'figure'),\n",
    "    [dash.dependencies.Input('crossfilter-population-gdp', 'clickData'),\n",
    "    dash.dependencies.Input('crossfilter-emission-main-type', 'value')]\n",
    ")\n",
    "def update_emission_main(hoverData, emission_type):\n",
    "    country_name = hoverData['points'][0]['customdata']\n",
    "    if emission_type == 'Total':\n",
    "        emissions = ['CO2', 'CH4', 'NOX']\n",
    "    elif emission_type == 'Per capita':\n",
    "        emissions = ['CO2 (per capita)', 'CH4 (per capita)', 'NOX (per capita)']\n",
    "        \n",
    "    df_emission = (\n",
    "        df_final[(df_final['Country Name'] == country_name) & \n",
    "                 (df_final['Series Name'].isin(emissions))].sort_values(['Series Name','Year'])\n",
    "        )\n",
    "    \n",
    "    fig = go.Figure()\n",
    "    \n",
    "    for emission in emissions:\n",
    "        \n",
    "        fig.add_trace(go.Scatter(\n",
    "            x=df_emission[df_emission['Series Name'] == emission]['Year'],\n",
    "            y=df_emission[df_emission['Series Name'] == emission]['Value'],\n",
    "            mode=\"lines+markers\",\n",
    "            name=emission\n",
    "        ))\n",
    "    \n",
    "    fig.update_layout(\n",
    "            title='Emission Details',\n",
    "            height=225,\n",
    "            margin = {'l': 30, 'b': 30, 'r': 10, 't': 30},\n",
    "            annotations = [{\n",
    "                'x': 0, 'y': 0.85, 'xanchor': 'left', 'yanchor': 'bottom',\n",
    "                'xref': 'paper', 'yref': 'paper', 'showarrow': False,\n",
    "                'align': 'left', 'bgcolor': 'rgba(255, 255, 255, 0.5)',\n",
    "                'text': country_name\n",
    "            }],\n",
    "            yaxis={'type': 'linear' },\n",
    "            xaxis={'showgrid': False}\n",
    "    )\n",
    "        \n",
    "    return fig"
   ]
  },
  {
   "cell_type": "code",
   "execution_count": 39,
   "metadata": {},
   "outputs": [],
   "source": [
    "@app.callback(\n",
    "    dash.dependencies.Output('display-emission-rank', 'figure'),\n",
    "    [dash.dependencies.Input('crossfilter-emission-main-type', 'value')]\n",
    ")\n",
    "def update_emission_rank(emission_type):\n",
    "    df_ranked = (\n",
    "        df_final[(df_final['Series Name'] == 'Emission Rank') &\n",
    "                 #(df_final['Value'].isin([i+1 for i in range(10)] + [float('NaN')]))].sort_values(['Country Name','Year', 'Value'])\n",
    "                 (df_final['Value'].isin([i+1 for i in range(10)]))].sort_values(['Country Name','Year', 'Value'])\n",
    "        )\n",
    "    \n",
    "    fig = go.Figure()\n",
    "    \n",
    "    for country in df_ranked['Country Name'].unique():\n",
    "        \n",
    "        fig.add_trace(go.Scatter(\n",
    "            x=df_ranked[df_ranked['Country Name'] == country]['Year'],\n",
    "            y=df_ranked[df_ranked['Country Name'] == country]['Value'],\n",
    "            name=country,\n",
    "            showlegend=True,\n",
    "            mode='lines+markers'\n",
    "        ))\n",
    "    \n",
    "    fig.update_layout(\n",
    "        title='Top Polluters Ranked',\n",
    "        height= 225,\n",
    "        margin= {'l': 30, 'b': 30, 'r': 10, 't': 30},\n",
    "        annotations= [{\n",
    "            'x': 0, 'y': 0.85, 'xanchor': 'left', 'yanchor': 'bottom',\n",
    "            'xref': 'paper', 'yref': 'paper', 'showarrow': False,\n",
    "            'align': 'left', 'bgcolor': 'rgba(255, 255, 255, 0.5)',\n",
    "            'text': 'title'\n",
    "        }],\n",
    "        yaxis={'type': 'linear', 'autorange' : 'reversed' },\n",
    "        xaxis={'showgrid': False}\n",
    "    )\n",
    "    \n",
    "    return fig"
   ]
  },
  {
   "cell_type": "code",
   "execution_count": 40,
   "metadata": {},
   "outputs": [
    {
     "name": "stdout",
     "output_type": "stream",
     "text": [
      "Dash app running on http://127.0.0.1:8050/\n"
     ]
    }
   ],
   "source": [
    "final_page = app.run_server()"
   ]
  }
 ],
 "metadata": {
  "kernelspec": {
   "display_name": "Python 3 (ipykernel)",
   "language": "python",
   "name": "python3"
  },
  "language_info": {
   "codemirror_mode": {
    "name": "ipython",
    "version": 3
   },
   "file_extension": ".py",
   "mimetype": "text/x-python",
   "name": "python",
   "nbconvert_exporter": "python",
   "pygments_lexer": "ipython3",
   "version": "3.9.7"
  }
 },
 "nbformat": 4,
 "nbformat_minor": 2
}
