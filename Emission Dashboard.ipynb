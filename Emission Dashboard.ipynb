{
 "cells": [
  {
   "cell_type": "code",
   "execution_count": null,
   "metadata": {},
   "outputs": [],
   "source": [
    "from jupyter_dash import JupyterDash\n",
    "import dash\n",
    "from dash import dcc\n",
    "from dash import html\n",
    "import pandas as pd"
   ]
  },
  {
   "cell_type": "code",
   "execution_count": null,
   "metadata": {},
   "outputs": [],
   "source": [
    "pd.options.display.max_columns = 99\n",
    "pd.options.display.max_rows = 999"
   ]
  },
  {
   "cell_type": "markdown",
   "metadata": {},
   "source": [
    "# Requirenments\n",
    "\n",
    "Description: Emission dashboard to explore individal country contributions, and identify the most polluting nations over time.\n",
    "\n",
    "- Graph 1: Shows all countries total emissions by population and GDP. Date is adjustable with a slider.  \n",
    "- Graph 2: Shows detailed emission values for the selected country from Graph 1 over time. There should be an option to select total or per capita values.  \n",
    "- Graph 3: Shows the top 10 most pollutant nations over time. Option for total or per capita values."
   ]
  },
  {
   "cell_type": "markdown",
   "metadata": {},
   "source": [
    "### Information about the combined dataset from the World Bank\n",
    "\n",
    "Contains data in the following categories:\n",
    "\n",
    "- Country stats:\n",
    "  - Population, total\n",
    "  - GDP per capita (constant 2015 US$)  \n",
    "    \n",
    "    \n",
    "- Emission data:\n",
    "  - CO2 emissions (kt)\n",
    "  - CO2 emissions (metric tons per capita)\n",
    "  - Methane emissions (kt of CO2 equivalent)\n",
    "  - Nitrous oxide emissions (thousand metric tons of CO2 equivalent)"
   ]
  },
  {
   "cell_type": "markdown",
   "metadata": {},
   "source": [
    "### Read and clean data"
   ]
  },
  {
   "cell_type": "code",
   "execution_count": null,
   "metadata": {},
   "outputs": [],
   "source": [
    "# Read in data and drop not needed columns\n",
    "data_path = 'Data Sources/'\n",
    "df = pd.read_csv(data_path + 'World Development Indicators.csv')\n",
    "df = df.drop(columns=['Country Code', 'Series Code'])\n",
    "\n",
    "# Pivot values to long format and shorten year values\n",
    "df = df.melt(id_vars = ['Country Name', 'Series Name'], var_name = 'Year', value_name = 'Value').dropna()\n",
    "df['Year'] = df['Year'].str[0:4]\n",
    "df['Year'] = pd.to_numeric(df['Year'],errors='coerce')\n",
    "df['Value'] = pd.to_numeric(df['Value'],errors='coerce')\n",
    "\n",
    "# Simplify indicator notations\n",
    "indicator_translation = {\n",
    "    'Population, total' : 'Population',\n",
    "    'GDP per capita (constant 2015 US$)' : 'GDP (per capita)',\n",
    "    'CO2 emissions (kt)' : 'CO2',\n",
    "    'CO2 emissions (metric tons per capita)' : 'CO2 (per capita)',\n",
    "    'Methane emissions (kt of CO2 equivalent)' : 'CH4',\n",
    "    'Nitrous oxide emissions (thousand metric tons of CO2 equivalent)' : 'NOX'\n",
    "}\n",
    "df['Series Name'].replace(indicator_translation, inplace=True)"
   ]
  },
  {
   "cell_type": "markdown",
   "metadata": {},
   "source": [
    "### Calculate per capita values where it is missing"
   ]
  },
  {
   "cell_type": "code",
   "execution_count": null,
   "metadata": {},
   "outputs": [],
   "source": [
    "# Get population data, and calculate emission per population, adjust to metric tons\n",
    "df_emissions_per_capita = (\n",
    "    df[df['Series Name'].isin(['CH4','NOX'])].merge(\n",
    "        df[df['Series Name'] == 'Population'], on = ['Country Name', 'Year'], how = 'inner', suffixes = ['','_y'])\n",
    "    )\n",
    "df_emissions_per_capita['Value New'] = df_emissions_per_capita['Value'].div(df_emissions_per_capita['Value_y'])*1000\n",
    "\n",
    "# Prepare new dataset so it can be concatenated to original set\n",
    "df_emissions_per_capita = df_emissions_per_capita[['Country Name', 'Series Name', 'Year', 'Value New']]\n",
    "df_emissions_per_capita.rename({'Value New' : 'Value'}, axis = 1, inplace=True)\n",
    "\n",
    "# Add per capita notations\n",
    "indicator_translation = {\n",
    "    'NOX' : 'NOX (per capita)',\n",
    "    'CH4' : 'CH4 (per capita)'\n",
    "}\n",
    "df_emissions_per_capita['Series Name'].replace(indicator_translation, inplace=True)\n",
    "\n",
    "# Add new per capita values next to the original sub-set of emissions\n",
    "emissions = ['CO2', 'CO2 (per capita)', 'NOX', 'CH4']\n",
    "df_emissions = pd.concat([df[df['Series Name'].isin(emissions)],df_emissions_per_capita])"
   ]
  },
  {
   "cell_type": "markdown",
   "metadata": {},
   "source": [
    "### Rank countries based on total emissions"
   ]
  },
  {
   "cell_type": "code",
   "execution_count": null,
   "metadata": {},
   "outputs": [],
   "source": [
    "# Pivot table to enable total calculation\n",
    "df_emissions_ranked = (\n",
    "    df_emissions.pivot(index = ['Country Name', 'Year'], columns = ['Series Name'], values = 'Value')\n",
    ")\n",
    "df_emissions_ranked.reset_index(inplace=True)"
   ]
  },
  {
   "cell_type": "code",
   "execution_count": null,
   "metadata": {},
   "outputs": [],
   "source": [
    "# Calculate totals\n",
    "df_emissions_ranked['Total Emission'] = df_emissions_ranked['CH4']+df_emissions_ranked['CO2']+df_emissions_ranked['NOX']\n",
    "df_emissions_ranked['Total Emission (per capita)'] = \\\n",
    "    df_emissions_ranked['CH4 (per capita)']+df_emissions_ranked['CO2 (per capita)']+df_emissions_ranked['NOX (per capita)']\n",
    "\n",
    "# Rank countries by Total Emission for every year\n",
    "df_emissions_ranked.loc[:, 'Emission Rank'] = df_emissions_ranked.groupby(['Year'])['Total Emission'].rank(ascending=False)\n",
    "df_emissions_ranked.loc[:, 'Emission Rank (per capita)'] = df_emissions_ranked.groupby(['Year'])['Total Emission (per capita)'].rank(ascending=False)"
   ]
  },
  {
   "cell_type": "markdown",
   "metadata": {},
   "source": [
    "### Set up dashboard layout"
   ]
  },
  {
   "cell_type": "code",
   "execution_count": null,
   "metadata": {},
   "outputs": [],
   "source": [
    "external_stylesheets = ['https://codepen.io/chriddyp/pen/bWLwgP.css']\n",
    "\n",
    "app = JupyterDash(__name__, external_stylesheets=external_stylesheets)\n",
    "\n",
    "server = app.server\n",
    "\n",
    "emission_types = {'Carbone dioxide' : 'CO2', 'Methane': 'CH4', 'Nitrous oxide' : 'NOX'}\n",
    "\n",
    "app.layout = html.Div([            \n",
    "                html.Div([\n",
    "                    dcc.Dropdown(\n",
    "                            id='crossfilter-meta-type',\n",
    "                            options=[{'label': i, 'value': i} for i in ['Population', 'GDP (per capita)']],\n",
    "                            value='Population'\n",
    "                        ),\n",
    "                    dcc.Graph(\n",
    "                        id='crossfilter-population-gdp',\n",
    "                        clickData={'points': [{'customdata': 'Japan'}]}\n",
    "                    )\n",
    "                ], style={'width': '100%', 'display': 'inline-block', 'padding': '0 20'}),\n",
    "    \n",
    "                html.Div(dcc.Slider(\n",
    "                    id='crossfilter-year-slider',\n",
    "                    min=df['Year'].min(),\n",
    "                    max=df['Year'].max(),\n",
    "                    value=df['Year'].max(),\n",
    "                    marks={str(year): str(year) for year in df['Year'].unique()},\n",
    "                    step=None\n",
    "                ), style={'width': '100%', 'padding': '0px 20px 20px 20px'}),\n",
    "                    \n",
    "                html.Div([\n",
    "                    html.Div([\n",
    "                        dcc.Dropdown(\n",
    "                            id='crossfilter-emission-main',\n",
    "                            options=[{'label': i, 'value': i} for i in emission_types],\n",
    "                            value='Carbone dioxide'\n",
    "                        ),\n",
    "                        dcc.RadioItems(\n",
    "                            id='crossfilter-emission-type',\n",
    "                            options=[{'label': i, 'value': i} for i in ['Total', 'Per capita']],\n",
    "                            value='Total',\n",
    "                            labelStyle={'display': 'inline-block'}\n",
    "                        )\n",
    "                    ], style={'width': '49%', 'float': 'right', 'display': 'inline-block'})\n",
    "\n",
    "                ], style={\n",
    "                    'borderBottom': 'thin lightgrey solid',\n",
    "                    'backgroundColor': 'rgb(250, 250, 250)',\n",
    "                    'padding': '10px 5px'\n",
    "                    }\n",
    "                ),\n",
    "                    html.Div([\n",
    "                    dcc.Graph(id='display-emission'),\n",
    "                ], style={'display': 'inline-block', 'width': '45%'})\n",
    "            ]\n",
    "            )"
   ]
  },
  {
   "cell_type": "code",
   "execution_count": null,
   "metadata": {},
   "outputs": [],
   "source": [
    "@app.callback(\n",
    "    dash.dependencies.Output('crossfilter-population-gdp', 'figure'),\n",
    "    dash.dependencies.Input('crossfilter-meta-type', 'value')\n",
    ")\n",
    "def update_population_gdp(meta_type):\n",
    "    #dff = df[df['Year'] == year_value]\n",
    "    #dff = df[df['Country Name'].isin(['Hungary', 'Croatia', 'Albania'])].sort_values(['Country Name','Year'])\n",
    "    \n",
    "    dff = df[df['Series Name'] == meta_type].sort_values(['Country Name','Year'])\n",
    "    dff.loc[dff['Year'] == 1960, 'Value'] = float('nan')\n",
    "    \n",
    "    return {\n",
    "        \n",
    "        'data': [dict(\n",
    "            y=dff['Value'],\n",
    "            x=dff['Year'],\n",
    "            text=dff['Country Name'],\n",
    "            customdata=dff['Country Name'],\n",
    "            mode='lines',\n",
    "            line={\n",
    "                'color' : dff['Country Name']\n",
    "            }\n",
    "        )],\n",
    "        'layout': dict(\n",
    "            xaxis={\n",
    "                'title': 'Year',\n",
    "                'type': 'linear'\n",
    "            },\n",
    "            yaxis={\n",
    "                'title': meta_type,\n",
    "                'type': 'linear'\n",
    "            },\n",
    "            margin={'l': 40, 'b': 30, 't': 10, 'r': 0},\n",
    "            height=450,\n",
    "            hovermode='closest'\n",
    "        )\n",
    "    }"
   ]
  },
  {
   "cell_type": "code",
   "execution_count": null,
   "metadata": {},
   "outputs": [],
   "source": [
    "final_page = app.run_server()"
   ]
  },
  {
   "cell_type": "code",
   "execution_count": null,
   "metadata": {},
   "outputs": [],
   "source": [
    "dff = df[df['Country Name'].isin(['Hungary', 'Croatia'])]\n",
    "dff[dff['Series Name'] == 'Population'].sort_values(['Country Name', 'Year'])"
   ]
  },
  {
   "cell_type": "code",
   "execution_count": null,
   "metadata": {},
   "outputs": [],
   "source": [
    "dff[dff['Series Name'] == 'GDP (per capita)'].sort_values(['Country Name', 'Year'])"
   ]
  },
  {
   "cell_type": "code",
   "execution_count": null,
   "metadata": {},
   "outputs": [],
   "source": [
    "app.layout = html.Div([            \n",
    "                html.Div([\n",
    "                    dcc.Graph(\n",
    "                        id='crossfilter-population-gdp',\n",
    "                        clickData={'points': [{'customdata': 'Japan'}]}\n",
    "                    )\n",
    "                ], style={'width': '100%', 'display': 'inline-block', 'padding': '0 20'}),\n",
    "    \n",
    "                html.Div(dcc.Slider(\n",
    "                    id='crossfilter-year-slider',\n",
    "                    min=df['Year'].min(),\n",
    "                    max=df['Year'].max(),\n",
    "                    value=df['Year'].max(),\n",
    "                    marks={str(year): str(year) for year in df['Year'].unique()},\n",
    "                    step=None\n",
    "                ), style={'width': '100%', 'padding': '0px 20px 20px 20px'}),\n",
    "                    \n",
    "                html.Div([\n",
    "                    html.Div([\n",
    "                        dcc.Dropdown(\n",
    "                            id='crossfilter-emission-main',\n",
    "                            options=[{'label': i, 'value': i} for i in emission_types],\n",
    "                            value='Carbone dioxide'\n",
    "                        ),\n",
    "                        dcc.RadioItems(\n",
    "                            id='crossfilter-emission-type',\n",
    "                            options=[{'label': i, 'value': i} for i in ['Total', 'Per capita']],\n",
    "                            value='Total',\n",
    "                            labelStyle={'display': 'inline-block'}\n",
    "                        )\n",
    "                    ], style={'width': '49%', 'float': 'right', 'display': 'inline-block'})\n",
    "\n",
    "                ], style={\n",
    "                    'borderBottom': 'thin lightgrey solid',\n",
    "                    'backgroundColor': 'rgb(250, 250, 250)',\n",
    "                    'padding': '10px 5px'\n",
    "                    }\n",
    "                ),\n",
    "                    html.Div([\n",
    "                    dcc.Graph(id='display-emission'),\n",
    "                ], style={'display': 'inline-block', 'width': '45%'})\n",
    "            ]\n",
    "            )"
   ]
  },
  {
   "cell_type": "code",
   "execution_count": null,
   "metadata": {},
   "outputs": [],
   "source": [
    "@app.callback(\n",
    "    dash.dependencies.Output('crossfilter-population-gdp', 'figure'),\n",
    "    dash.dependencies.Input('crossfilter-year-slider', 'value')\n",
    ")\n",
    "def update_population_gdp(year_value):\n",
    "    dff = df[df['Year'] == year_value]\n",
    "    \n",
    "    return {\n",
    "        \n",
    "        'data': [dict(\n",
    "            x=dff[dff['Series Name'] == 'GDP (per capita)']['Value'],\n",
    "            y=dff[dff['Series Name'] == 'Population']['Value'],\n",
    "            text=dff[dff['Series Name'] == 'Population']['Country Name'],\n",
    "            customdata=dff[dff['Series Name'] == 'Population']['Country Name'],\n",
    "            mode='markers',\n",
    "            marker={\n",
    "                'size': 25,\n",
    "                'opacity': 0.7,\n",
    "                'color': 'orange',\n",
    "                'line': {'width': 2, 'color': 'purple'}\n",
    "            }\n",
    "        )],\n",
    "        'layout': dict(\n",
    "            xaxis={\n",
    "                'title': 'GDP (per capita)',\n",
    "                'type': 'linear'\n",
    "            },\n",
    "            yaxis={\n",
    "                'title': 'Population',\n",
    "                'type': 'linear'\n",
    "            },\n",
    "            margin={'l': 40, 'b': 30, 't': 10, 'r': 0},\n",
    "            height=450,\n",
    "            hovermode='closest'\n",
    "        )\n",
    "    }"
   ]
  },
  {
   "cell_type": "code",
   "execution_count": null,
   "metadata": {},
   "outputs": [],
   "source": [
    "def create_time_series(dff, axis_type, title):\n",
    "    return {\n",
    "        'data': [dict(\n",
    "            x=dff['Year'],\n",
    "            y=dff['Value'],\n",
    "            mode='lines+markers'\n",
    "        )],\n",
    "        'layout': {\n",
    "            'height': 225,\n",
    "            'margin': {'l': 20, 'b': 30, 'r': 10, 't': 10},\n",
    "            'annotations': [{\n",
    "                'x': 0, 'y': 0.85, 'xanchor': 'left', 'yanchor': 'bottom',\n",
    "                'xref': 'paper', 'yref': 'paper', 'showarrow': False,\n",
    "                'align': 'left', 'bgcolor': 'rgba(255, 255, 255, 0.5)',\n",
    "                'text': title\n",
    "            }],\n",
    "            'yaxis': {'type': 'linear' if axis_type == 'Linear' else 'log'},\n",
    "            'xaxis': {'showgrid': False}\n",
    "        }\n",
    "    }"
   ]
  },
  {
   "cell_type": "code",
   "execution_count": null,
   "metadata": {},
   "outputs": [],
   "source": [
    "@app.callback(\n",
    "    dash.dependencies.Output('x-time-series', 'figure'),\n",
    "    [dash.dependencies.Input('crossfilter-indicator-scatter', 'clickData'),\n",
    "     dash.dependencies.Input('crossfilter-xaxis-column', 'value'),\n",
    "     dash.dependencies.Input('crossfilter-xaxis-type', 'value')])\n",
    "def update_y_timeseries(hoverData, xaxis_column_name, axis_type):\n",
    "    country_name = hoverData['points'][0]['customdata']\n",
    "    dff = df[df['Country Name'] == country_name]\n",
    "    dff = dff[dff['Indicator Name'] == xaxis_column_name]\n",
    "    title = '{}{}'.format(country_name, xaxis_column_name)\n",
    "    return create_time_series(dff, axis_type, title)\n",
    "\n",
    "\n",
    "@app.callback(\n",
    "    dash.dependencies.Output('y-time-series', 'figure'),\n",
    "    [dash.dependencies.Input('crossfilter-indicator-scatter', 'clickData'),\n",
    "     dash.dependencies.Input('crossfilter-yaxis-column', 'value'),\n",
    "     dash.dependencies.Input('crossfilter-yaxis-type', 'value')])\n",
    "def update_x_timeseries(hoverData, yaxis_column_name, axis_type):\n",
    "    dff = df[df['Country Name'] == hoverData['points'][0]['customdata']]\n",
    "    dff = dff[dff['Indicator Name'] == yaxis_column_name]\n",
    "    return create_time_series(dff, axis_type, yaxis_column_name)"
   ]
  },
  {
   "cell_type": "code",
   "execution_count": null,
   "metadata": {},
   "outputs": [],
   "source": [
    "import plotly.express as px\n",
    "\n",
    "df2 = px.data.gapminder().query(\"continent=='Oceania'\")\n",
    "fig = px.line(df2, x=\"year\", y=\"lifeExp\", color=\"country\")\n",
    "fig.show()"
   ]
  },
  {
   "cell_type": "code",
   "execution_count": null,
   "metadata": {},
   "outputs": [],
   "source": [
    "df"
   ]
  },
  {
   "cell_type": "code",
   "execution_count": null,
   "metadata": {},
   "outputs": [],
   "source": []
  }
 ],
 "metadata": {
  "kernelspec": {
   "display_name": "Python 3 (ipykernel)",
   "language": "python",
   "name": "python3"
  },
  "language_info": {
   "codemirror_mode": {
    "name": "ipython",
    "version": 3
   },
   "file_extension": ".py",
   "mimetype": "text/x-python",
   "name": "python",
   "nbconvert_exporter": "python",
   "pygments_lexer": "ipython3",
   "version": "3.9.7"
  }
 },
 "nbformat": 4,
 "nbformat_minor": 2
}
